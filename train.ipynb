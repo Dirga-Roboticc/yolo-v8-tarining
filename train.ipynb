{
 "cells": [
  {
   "cell_type": "code",
   "execution_count": null,
   "metadata": {},
   "outputs": [],
   "source": [
    "!pip install ultralytics"
   ]
  },
  {
   "cell_type": "markdown",
   "metadata": {},
   "source": [
    "#SPLIT DATASET"
   ]
  },
  {
   "cell_type": "code",
   "execution_count": null,
   "metadata": {},
   "outputs": [],
   "source": [
    "!python split_dataset.py --root_dir dataset/custom --split_ratio 0.8"
   ]
  },
  {
   "cell_type": "markdown",
   "metadata": {},
   "source": [
    "#CONFIG"
   ]
  },
  {
   "cell_type": "code",
   "execution_count": null,
   "metadata": {},
   "outputs": [],
   "source": [
    "%%writefile dataset/custom/custom_dataset.yaml\n",
    "train: /home/user/Documents/yolo-v8-tarining/dataset/custom/train/images\n",
    "val: /home/user/Documents/yolo-v8-tarining/dataset/custom/val/images\n",
    "\n",
    "nc: 18  # num classes\n",
    "names: [\n",
    "  \"Accounts\",\n",
    "  \"Activity Bar\",\n",
    "  \"Close\",\n",
    "  \"Editor\",\n",
    "  \"Explorer\",\n",
    "  \"Extensions\",\n",
    "  \"Manage\",\n",
    "  \"Maximize\",\n",
    "  \"Minimize\",\n",
    "  \"Panel\",\n",
    "  \"Primary Side Bar\",\n",
    "  \"Run and Debug\",\n",
    "  \"Search\",\n",
    "  \"Search Bar\",\n",
    "  \"Source Control\",\n",
    "  \"Status Bar\",\n",
    "  \"Testing\",\n",
    "  \"Top Bar\"\n",
    "]\n",
    "# Pengaturan augmentasi\n",
    "augment:\n",
    "  # - type: hflip\n",
    "  #   probability: 0.5\n",
    "  # - type: vflip\n",
    "  #   probability: 0.5\n",
    "  # - type: rotate\n",
    "  #   angle: 15\n",
    "  #   probability: 0.5\n",
    "  - type: scale\n",
    "    factor: 0.5\n",
    "    probability: 0.5\n",
    "  - type: gauss_noise\n",
    "    mean: 0\n",
    "    std: 25\n",
    "    probability: 0.5  # Menambahkan Gaussian noise\n",
    "  - type: gaussian_blur\n",
    "    kernel_size: 5\n",
    "    probability: 0.5  # Menambahkan Gaussian blur\n",
    "  - type: random_brightness\n",
    "    factor: 0.2\n",
    "    probability: 0.5  # Mengubah brightness\n",
    "  - type: random_contrast\n",
    "    factor: 0.2\n",
    "    probability: 0.5  # Mengubah contrast\n",
    "  - type: random_saturation\n",
    "    factor: 0.2\n",
    "    probability: 0.5  # Mengubah saturation\n",
    "  - type: random_hue\n",
    "    factor: 0.1\n",
    "    probability: 0.5  # Mengubah hue"
   ]
  },
  {
   "cell_type": "markdown",
   "metadata": {},
   "source": [
    "#TRAINING"
   ]
  },
  {
   "cell_type": "code",
   "execution_count": null,
   "metadata": {},
   "outputs": [],
   "source": [
    "%cd /home/user/Documents/yolo-v8-tarining/\n",
    "from ultralytics import YOLO\n",
    "\n",
    "# Load model YOLOv8 pre-trained\n",
    "model = YOLO('yolov8m.pt')\n",
    "\n",
    "# Train model with custom dataset\n",
    "model.train(data='dataset/custom/custom_dataset.yaml', epochs=100, imgsz=1280, batch=12, augment=True)"
   ]
  },
  {
   "cell_type": "markdown",
   "metadata": {},
   "source": [
    "#INFERENCE"
   ]
  },
  {
   "cell_type": "code",
   "execution_count": null,
   "metadata": {},
   "outputs": [],
   "source": [
    "!python inference.py \\\n",
    "    --model /home/user/Documents/yolo-v8/runs/detect/train16/weights/best.pt \\\n",
    "    --image inference_data/image1.png \\\n",
    "    --conf 0.1 \\\n",
    "    --imgsz 1024"
   ]
  },
  {
   "cell_type": "code",
   "execution_count": null,
   "metadata": {},
   "outputs": [],
   "source": [
    "from ultralytics import YOLO\n",
    "\n",
    "# Run prediction\n",
    "model = YOLO(\"/home/user/Documents/yolo-v8/runs/detect/train9/weights/best.pt\")\n",
    "results = model.predict(source=\"inference_data/image1.png\", conf=0.60, imgsz=1024)\n",
    "for result in results:\n",
    "    result.save(\"output/output.jpg\")"
   ]
  }
 ],
 "metadata": {
  "kernelspec": {
   "display_name": ".venv",
   "language": "python",
   "name": "python3"
  },
  "language_info": {
   "codemirror_mode": {
    "name": "ipython",
    "version": 3
   },
   "file_extension": ".py",
   "mimetype": "text/x-python",
   "name": "python",
   "nbconvert_exporter": "python",
   "pygments_lexer": "ipython3",
   "version": "3.10.12"
  }
 },
 "nbformat": 4,
 "nbformat_minor": 2
}
